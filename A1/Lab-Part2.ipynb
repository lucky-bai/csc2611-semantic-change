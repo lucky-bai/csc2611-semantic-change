{
 "cells": [
  {
   "cell_type": "markdown",
   "metadata": {},
   "source": [
    "# Lab Part 2: Diachronic word embeddings"
   ]
  },
  {
   "cell_type": "code",
   "execution_count": 1,
   "metadata": {},
   "outputs": [],
   "source": [
    "import multiprocessing as mp\n",
    "import pickle\n",
    "import math\n",
    "\n",
    "import numpy as np\n",
    "import pandas as pd\n",
    "import matplotlib.pyplot as plt\n",
    "import scipy.spatial.distance\n",
    "import scipy.stats\n",
    "import tqdm\n",
    "\n",
    "%matplotlib inline"
   ]
  },
  {
   "cell_type": "markdown",
   "metadata": {},
   "source": [
    "## Load data"
   ]
  },
  {
   "cell_type": "code",
   "execution_count": 2,
   "metadata": {},
   "outputs": [],
   "source": [
    "with open('diachronic-vectors.pkl', 'rb') as f:\n",
    "  diachronic_vectors_data = pickle.load(f)\n",
    "\n",
    "# List(2000)\n",
    "words = diachronic_vectors_data['w']\n",
    "\n",
    "# [1900, 1910, ..., 1990]\n",
    "years = diachronic_vectors_data['d']\n",
    "\n",
    "# E[word_ix, year_ix] = 300dim vector\n",
    "embeddings = diachronic_vectors_data['E']"
   ]
  },
  {
   "cell_type": "markdown",
   "metadata": {},
   "source": [
    "## Step 2: measure semantic change for individual words"
   ]
  },
  {
   "cell_type": "code",
   "execution_count": 3,
   "metadata": {},
   "outputs": [],
   "source": [
    "# FIRST: take the cosine distance between the first embedding of a word (1900) and the last embedding of a word (1990).\n",
    "def method_FIRST(w_ix):\n",
    "  return scipy.spatial.distance.cosine(embeddings[w_ix][0], embeddings[w_ix][-1])\n",
    "\n",
    "# MAX: take the maximum of the pairwise cosine distances for all the embeddings of a word.\n",
    "def method_MAX(w_ix):\n",
    "  m = 0\n",
    "  for t_ix1 in range(10):\n",
    "    for t_ix2 in range(t_ix1+1, 10):\n",
    "      m = max(m, scipy.spatial.distance.cosine(embeddings[w_ix][t_ix1], embeddings[w_ix][t_ix2]))\n",
    "  return m\n",
    "\n",
    "# SUM: take the sum of cosine distances of consecutive word embeddings for a word.\n",
    "def method_SUM(w_ix):\n",
    "  s = 0\n",
    "  for t_ix in range(9):\n",
    "    s += scipy.spatial.distance.cosine(embeddings[w_ix][t_ix], embeddings[w_ix][t_ix+1])\n",
    "  return s"
   ]
  },
  {
   "cell_type": "code",
   "execution_count": 4,
   "metadata": {},
   "outputs": [
    {
     "name": "stdout",
     "output_type": "stream",
     "text": [
      "programs, computer, radio, approach, patterns, signal, levels, project, league, pattern, technology, content, post, economy, program, t, evaluation, jobs, bit, model\n",
      "autumn, clergy, villages, commodities, newspapers, vicinity, remark, votes, fleet, priest, poets, drama, symbol, prosperity, temperatures, defeat, seas, colonel, phrase, allies\n"
     ]
    },
    {
     "name": "stderr",
     "output_type": "stream",
     "text": [
      "/h/bai/moar/bai-conda/lib/python3.7/site-packages/scipy/spatial/distance.py:698: RuntimeWarning: invalid value encountered in double_scalars\n",
      "  dist = 1.0 - uv / np.sqrt(uu * vv)\n"
     ]
    }
   ],
   "source": [
    "# Top and bottom for each method\n",
    "def get_top_and_bottom(distance_fn):\n",
    "  distances = [distance_fn(ix) for ix in range(2000)]\n",
    "  L = sorted(zip(words, distances), key=lambda t: t[1], reverse=True)\n",
    "  return L[:20], list(reversed(L[-20:]))\n",
    "  \n",
    "# Change this to {method_FIRST, method_MAX, method_SUM}\n",
    "top20, bot20 = get_top_and_bottom(method_FIRST)\n",
    "print(', '.join([x[0] for x in top20]))\n",
    "print(', '.join([x[0] for x in bot20]))"
   ]
  },
  {
   "cell_type": "code",
   "execution_count": 5,
   "metadata": {},
   "outputs": [
    {
     "name": "stdout",
     "output_type": "stream",
     "text": [
      "0.9754305451407486\n",
      "0.6773165973771662\n",
      "0.7206101983066182\n"
     ]
    }
   ],
   "source": [
    "# Pearson correlatons\n",
    "def get_pearson(distance_fn1, distance_fn2):\n",
    "  D1 = []\n",
    "  D2 = []\n",
    "  for ix in range(2000):\n",
    "    d1 = distance_fn1(ix)\n",
    "    d2 = distance_fn2(ix)\n",
    "    if math.isnan(d1) or math.isnan(d2):\n",
    "      continue\n",
    "    D1.append(d1)\n",
    "    D2.append(d2)\n",
    "  return scipy.stats.pearsonr(D1, D2)[0]\n",
    "\n",
    "print(get_pearson(method_FIRST, method_MAX))\n",
    "print(get_pearson(method_FIRST, method_SUM))\n",
    "print(get_pearson(method_MAX, method_SUM))"
   ]
  },
  {
   "cell_type": "markdown",
   "metadata": {},
   "source": [
    "## Step 3: compare with ground truth\n",
    "\n",
    "Take ground truth as the overlap between the 100 closest words in 1900 and 1990."
   ]
  },
  {
   "cell_type": "code",
   "execution_count": 7,
   "metadata": {},
   "outputs": [],
   "source": [
    "def get_nearest_neighbors(year_ix, word_ix, N=100):\n",
    "  L = []\n",
    "  for ix in range(2000):\n",
    "    dist = scipy.spatial.distance.cosine(\n",
    "      embeddings[word_ix][year_ix],\n",
    "      embeddings[ix][year_ix]\n",
    "    )\n",
    "    L.append((words[ix], dist))\n",
    "  return sorted(L, key=lambda x: x[1])[:N]\n",
    "\n",
    "def overlap(L1, L2):\n",
    "  S1 = set([x[0] for x in L1])\n",
    "  S2 = set([x[0] for x in L2])\n",
    "  return len(S1.intersection(S2))\n",
    "  \n",
    "def get_ground_truth(w_ix):\n",
    "  L1 = get_nearest_neighbors(0, w_ix, N=25)\n",
    "  L2 = get_nearest_neighbors(9, w_ix, N=25)\n",
    "  return 1 - overlap(L1, L2) / 25\n",
    "\n",
    "pool = mp.Pool()\n",
    "G = pool.map(get_ground_truth, range(2000))"
   ]
  },
  {
   "cell_type": "code",
   "execution_count": 8,
   "metadata": {},
   "outputs": [
    {
     "name": "stdout",
     "output_type": "stream",
     "text": [
      "0.4096486711896998\n",
      "0.413956113896722\n",
      "0.23606725526779945\n"
     ]
    }
   ],
   "source": [
    "# Calculate pearson\n",
    "def ground_truth_distance_fn(w_ix):\n",
    "  return G[w_ix]\n",
    "\n",
    "print(get_pearson(ground_truth_distance_fn, method_FIRST))\n",
    "print(get_pearson(ground_truth_distance_fn, method_MAX))\n",
    "print(get_pearson(ground_truth_distance_fn, method_SUM))"
   ]
  },
  {
   "cell_type": "markdown",
   "metadata": {},
   "source": [
    "## Step 4: Change point detection\n",
    "\n",
    "Most changed words: objectives, computer, programs"
   ]
  },
  {
   "cell_type": "code",
   "execution_count": 25,
   "metadata": {},
   "outputs": [
    {
     "data": {
      "image/png": "[encoded data removed]",
      "text/plain": [
       "<Figure size 432x288 with 1 Axes>"
      ]
     },
     "metadata": {
      "needs_background": "light"
     },
     "output_type": "display_data"
    }
   ],
   "source": [
    "WORD = 'objectives'\n",
    "w_ix = words.index(WORD)\n",
    "\n",
    "decade_changes = []\n",
    "for t_ix in range(9):\n",
    "  decade_changes.append(\n",
    "    scipy.spatial.distance.cosine(embeddings[w_ix][t_ix], embeddings[w_ix][t_ix+1])\n",
    "  )\n",
    "\n",
    "plt.bar(years[:-1], decade_changes)\n",
    "plt.xlabel('Decade')\n",
    "plt.ylabel('Semantic Change')\n",
    "plt.title('Semantic change for word: ' + WORD)\n",
    "plt.show()"
   ]
  },
  {
   "cell_type": "code",
   "execution_count": 30,
   "metadata": {},
   "outputs": [
    {
     "data": {
      "text/plain": [
       "[('layer', 0.7514035655128115),\n",
       " ('material', 0.7609878930551868),\n",
       " ('wire', 0.797482308475875),\n",
       " ('metal', 0.7993056795283877),\n",
       " ('selection', 0.8114394151229801),\n",
       " ('hydrogen', 0.8228953517164883),\n",
       " ('copper', 0.8313956829644197),\n",
       " ('voltage', 0.8320082092463992),\n",
       " ('machinery', 0.8323206706140724),\n",
       " ('particles', 0.8453463247989266),\n",
       " ('impact', 0.8508399455530874),\n",
       " ('separation', 0.8518155532658733),\n",
       " ('masses', 0.8571070789809275),\n",
       " ('density', 0.857684018639668),\n",
       " ('bone', 0.866748432833005),\n",
       " ('programs', 0.8669486428821847),\n",
       " ('expansion', 0.8712503244120954),\n",
       " ('discovery', 0.8713808193417715),\n",
       " ('ice', 0.8756898217706564),\n",
       " ('steam', 0.8775714231982132)]"
      ]
     },
     "execution_count": 30,
     "metadata": {},
     "output_type": "execute_result"
    }
   ],
   "source": [
    "get_nearest_neighbors(0, w_ix, N=20)"
   ]
  }
 ],
 "metadata": {
  "kernelspec": {
   "display_name": "Python 3",
   "language": "python",
   "name": "python3"
  },
  "language_info": {
   "codemirror_mode": {
    "name": "ipython",
    "version": 3
   },
   "file_extension": ".py",
   "mimetype": "text/x-python",
   "name": "python",
   "nbconvert_exporter": "python",
   "pygments_lexer": "ipython3",
   "version": "3.7.5"
  }
 },
 "nbformat": 4,
 "nbformat_minor": 4
}
