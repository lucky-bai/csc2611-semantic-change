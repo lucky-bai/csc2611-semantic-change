{
 "cells": [
  {
   "cell_type": "markdown",
   "metadata": {},
   "source": [
    "# Lab Part 2: Diachronic word embeddings"
   ]
  },
  {
   "cell_type": "code",
   "execution_count": 1,
   "metadata": {},
   "outputs": [],
   "source": [
    "import pandas as pd\n",
    "import scipy.spatial.distance\n",
    "import scipy.stats\n",
    "import pickle\n",
    "import math"
   ]
  },
  {
   "cell_type": "markdown",
   "metadata": {},
   "source": [
    "## Load data"
   ]
  },
  {
   "cell_type": "code",
   "execution_count": 2,
   "metadata": {},
   "outputs": [],
   "source": [
    "with open('diachronic-vectors.pkl', 'rb') as f:\n",
    "  diachronic_vectors_data = pickle.load(f)\n",
    "\n",
    "# List(2000)\n",
    "words = diachronic_vectors_data['w']\n",
    "\n",
    "# [1900, 1910, ..., 1990]\n",
    "years = diachronic_vectors_data['d']\n",
    "\n",
    "# E[word_ix, year_ix] = 300dim vector\n",
    "embeddings = diachronic_vectors_data['E']"
   ]
  },
  {
   "cell_type": "markdown",
   "metadata": {},
   "source": [
    "## Step 2: measure semantic change for individual words"
   ]
  },
  {
   "cell_type": "code",
   "execution_count": 3,
   "metadata": {},
   "outputs": [],
   "source": [
    "# FIRST: take the cosine distance between the first embedding of a word (1900) and the last embedding of a word (1990).\n",
    "def method_FIRST(w_ix):\n",
    "  return scipy.spatial.distance.cosine(embeddings[w_ix][0], embeddings[w_ix][-1])\n",
    "\n",
    "# MAX: take the maximum of the pairwise cosine distances for all the embeddings of a word.\n",
    "def method_MAX(w_ix):\n",
    "  m = 0\n",
    "  for t_ix1 in range(10):\n",
    "    for t_ix2 in range(t_ix1+1, 10):\n",
    "      m = max(m, scipy.spatial.distance.cosine(embeddings[w_ix][t_ix1], embeddings[w_ix][t_ix2]))\n",
    "  return m\n",
    "\n",
    "# SUM: take the sum of cosine distances of consecutive word embeddings for a word.\n",
    "def method_SUM(w_ix):\n",
    "  s = 0\n",
    "  for t_ix in range(9):\n",
    "    s += scipy.spatial.distance.cosine(embeddings[w_ix][t_ix], embeddings[w_ix][t_ix+1])\n",
    "  return s"
   ]
  },
  {
   "cell_type": "code",
   "execution_count": 4,
   "metadata": {},
   "outputs": [
    {
     "name": "stdout",
     "output_type": "stream",
     "text": [
      "programs, computer, radio, approach, patterns, signal, levels, project, league, pattern, technology, content, post, economy, program, t, evaluation, jobs, bit, model\n",
      "autumn, clergy, villages, commodities, newspapers, vicinity, remark, votes, fleet, priest, poets, drama, symbol, prosperity, temperatures, defeat, seas, colonel, phrase, allies\n"
     ]
    },
    {
     "name": "stderr",
     "output_type": "stream",
     "text": [
      "/h/bai/moar/bai-conda/lib/python3.7/site-packages/scipy/spatial/distance.py:698: RuntimeWarning: invalid value encountered in double_scalars\n",
      "  dist = 1.0 - uv / np.sqrt(uu * vv)\n"
     ]
    }
   ],
   "source": [
    "# Top and bottom for each method\n",
    "def get_top_and_bottom(distance_fn):\n",
    "  distances = [distance_fn(ix) for ix in range(2000)]\n",
    "  L = sorted(zip(words, distances), key=lambda t: t[1], reverse=True)\n",
    "  return L[:20], list(reversed(L[-20:]))\n",
    "  \n",
    "# Change this to {method_FIRST, method_MAX, method_SUM}\n",
    "top20, bot20 = get_top_and_bottom(method_FIRST)\n",
    "print(', '.join([x[0] for x in top20]))\n",
    "print(', '.join([x[0] for x in bot20]))"
   ]
  },
  {
   "cell_type": "code",
   "execution_count": 5,
   "metadata": {},
   "outputs": [
    {
     "name": "stdout",
     "output_type": "stream",
     "text": [
      "0.9754305451407486\n",
      "0.6773165973771662\n",
      "0.7206101983066182\n"
     ]
    }
   ],
   "source": [
    "# Pearson correlatons\n",
    "def get_pearson(distance_fn1, distance_fn2):\n",
    "  D1 = []\n",
    "  D2 = []\n",
    "  for ix in range(2000):\n",
    "    d1 = distance_fn1(ix)\n",
    "    d2 = distance_fn2(ix)\n",
    "    if math.isnan(d1) or math.isnan(d2):\n",
    "      continue\n",
    "    D1.append(d1)\n",
    "    D2.append(d2)\n",
    "  return scipy.stats.pearsonr(D1, D2)[0]\n",
    "\n",
    "print(get_pearson(method_FIRST, method_MAX))\n",
    "print(get_pearson(method_FIRST, method_SUM))\n",
    "print(get_pearson(method_MAX, method_SUM))"
   ]
  }
 ],
 "metadata": {
  "kernelspec": {
   "display_name": "Python 3",
   "language": "python",
   "name": "python3"
  },
  "language_info": {
   "codemirror_mode": {
    "name": "ipython",
    "version": 3
   },
   "file_extension": ".py",
   "mimetype": "text/x-python",
   "name": "python",
   "nbconvert_exporter": "python",
   "pygments_lexer": "ipython3",
   "version": "3.7.5"
  }
 },
 "nbformat": 4,
 "nbformat_minor": 4
}
