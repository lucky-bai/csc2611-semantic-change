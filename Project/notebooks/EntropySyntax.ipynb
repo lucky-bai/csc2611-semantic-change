{
 "cells": [
  {
   "cell_type": "markdown",
   "metadata": {},
   "source": [
    "# POS Entropy in different syntactic positions"
   ]
  },
  {
   "cell_type": "code",
   "execution_count": 1,
   "metadata": {},
   "outputs": [],
   "source": [
    "import sys\n",
    "sys.path.append('../')\n",
    "\n",
    "import matplotlib.pyplot as plt\n",
    "import seaborn as sns\n",
    "import numpy as np\n",
    "import scipy.stats\n",
    "import glob\n",
    "import collections\n",
    "\n",
    "import src.ud_corpus\n",
    "\n",
    "%load_ext autoreload\n",
    "%autoreload 2\n",
    "%matplotlib inline"
   ]
  },
  {
   "cell_type": "code",
   "execution_count": 2,
   "metadata": {},
   "outputs": [],
   "source": [
    "ud_data_classical = src.ud_corpus.POSCorpus.create_from_ud(glob.glob('../data/UD_Classical_Chinese-Kyoto/*.conllu'))\n",
    "ud_data_modern = src.ud_corpus.POSCorpus.create_from_ud(glob.glob('../data/UD_Chinese-GSD/*.conllu'))"
   ]
  },
  {
   "cell_type": "markdown",
   "metadata": {},
   "source": [
    "## Find most common particles"
   ]
  },
  {
   "cell_type": "code",
   "execution_count": 3,
   "metadata": {},
   "outputs": [],
   "source": [
    "PARTICLE_POS = ['AUX', 'PART', 'CCONJ', 'SCONJ', 'AUX', 'ADP']\n",
    "\n",
    "def get_most_common_particles(ud):\n",
    "  ctr = collections.Counter()\n",
    "  for sentence in ud.sentences:\n",
    "    for tok in sentence:\n",
    "      if tok['pos'] in PARTICLE_POS:\n",
    "        ctr[tok['char']] += 1\n",
    "  return ctr"
   ]
  },
  {
   "cell_type": "code",
   "execution_count": 4,
   "metadata": {},
   "outputs": [
    {
     "data": {
      "text/plain": [
       "[('也', 2545),\n",
       " ('之', 1962),\n",
       " ('而', 1737),\n",
       " ('者', 1284),\n",
       " ('于', 972),\n",
       " ('矣', 557),\n",
       " ('所', 503),\n",
       " ('可', 476),\n",
       " ('乎', 471),\n",
       " ('为', 403)]"
      ]
     },
     "execution_count": 4,
     "metadata": {},
     "output_type": "execute_result"
    }
   ],
   "source": [
    "ctr = get_most_common_particles(ud_data_classical)\n",
    "ctr.most_common(10)"
   ]
  },
  {
   "cell_type": "code",
   "execution_count": 5,
   "metadata": {},
   "outputs": [
    {
     "data": {
      "text/plain": [
       "[('的', 5646),\n",
       " ('是', 1086),\n",
       " ('在', 1064),\n",
       " ('了', 870),\n",
       " ('为', 862),\n",
       " ('和', 844),\n",
       " ('于', 568),\n",
       " ('与', 486),\n",
       " ('以', 439),\n",
       " ('之', 404)]"
      ]
     },
     "execution_count": 5,
     "metadata": {},
     "output_type": "execute_result"
    }
   ],
   "source": [
    "ctr = get_most_common_particles(ud_data_modern)\n",
    "ctr.most_common(10)"
   ]
  }
 ],
 "metadata": {
  "kernelspec": {
   "display_name": "Python 3",
   "language": "python",
   "name": "python3"
  },
  "language_info": {
   "codemirror_mode": {
    "name": "ipython",
    "version": 3
   },
   "file_extension": ".py",
   "mimetype": "text/x-python",
   "name": "python",
   "nbconvert_exporter": "python",
   "pygments_lexer": "ipython3",
   "version": "3.7.5"
  }
 },
 "nbformat": 4,
 "nbformat_minor": 4
}
