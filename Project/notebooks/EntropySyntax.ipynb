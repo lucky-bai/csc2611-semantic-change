{
 "cells": [
  {
   "cell_type": "markdown",
   "metadata": {},
   "source": [
    "# POS Entropy in different syntactic positions"
   ]
  },
  {
   "cell_type": "code",
   "execution_count": 1,
   "metadata": {},
   "outputs": [],
   "source": [
    "import sys\n",
    "sys.path.append('../')\n",
    "\n",
    "import matplotlib.pyplot as plt\n",
    "import seaborn as sns\n",
    "import numpy as np\n",
    "import scipy.stats\n",
    "import glob\n",
    "import collections\n",
    "\n",
    "import src.ud_corpus\n",
    "import src.syntax_entropy\n",
    "\n",
    "%load_ext autoreload\n",
    "%autoreload 2\n",
    "%matplotlib inline"
   ]
  },
  {
   "cell_type": "code",
   "execution_count": 2,
   "metadata": {},
   "outputs": [],
   "source": [
    "ud_data_classical = src.ud_corpus.POSCorpus.create_from_ud(glob.glob('../data/UD_Classical_Chinese-Kyoto/*.conllu'), split_chars=False)\n",
    "ud_data_modern = src.ud_corpus.POSCorpus.create_from_ud(glob.glob('../data/UD_Chinese-GSD/*.conllu'), split_chars=False)"
   ]
  },
  {
   "cell_type": "markdown",
   "metadata": {},
   "source": [
    "## Find most common particles"
   ]
  },
  {
   "cell_type": "code",
   "execution_count": 3,
   "metadata": {},
   "outputs": [],
   "source": [
    "PARTICLE_POS = ['AUX', 'PART', 'CCONJ', 'SCONJ', 'AUX', 'ADP']\n",
    "\n",
    "def get_most_common_particles(ud):\n",
    "  ctr = collections.Counter()\n",
    "  for sentence in ud.sentences:\n",
    "    for tok in sentence:\n",
    "      if tok['pos'] in PARTICLE_POS:\n",
    "        ctr[tok['word']] += 1\n",
    "  return ctr"
   ]
  },
  {
   "cell_type": "code",
   "execution_count": 4,
   "metadata": {},
   "outputs": [
    {
     "data": {
      "text/plain": [
       "[('也', 2545),\n",
       " ('之', 1962),\n",
       " ('而', 1737),\n",
       " ('者', 1284),\n",
       " ('于', 972),\n",
       " ('矣', 557),\n",
       " ('所', 503),\n",
       " ('可', 476),\n",
       " ('乎', 471),\n",
       " ('为', 403)]"
      ]
     },
     "execution_count": 4,
     "metadata": {},
     "output_type": "execute_result"
    }
   ],
   "source": [
    "ctr = get_most_common_particles(ud_data_classical)\n",
    "ctr.most_common(10)"
   ]
  },
  {
   "cell_type": "code",
   "execution_count": 5,
   "metadata": {},
   "outputs": [
    {
     "data": {
      "text/plain": [
       "[('的', 5637),\n",
       " ('在', 1060),\n",
       " ('是', 884),\n",
       " ('和', 843),\n",
       " ('了', 808),\n",
       " ('为', 685),\n",
       " ('与', 485),\n",
       " ('于', 399),\n",
       " ('中', 383),\n",
       " ('会', 337)]"
      ]
     },
     "execution_count": 5,
     "metadata": {},
     "output_type": "execute_result"
    }
   ],
   "source": [
    "ctr = get_most_common_particles(ud_data_modern)\n",
    "ctr.most_common(10)"
   ]
  },
  {
   "cell_type": "markdown",
   "metadata": {},
   "source": [
    "## Split into segments without punctuation"
   ]
  },
  {
   "cell_type": "code",
   "execution_count": 6,
   "metadata": {},
   "outputs": [],
   "source": [
    "segments_classical = src.syntax_entropy.split_into_segments(ud_data_classical.sentences)\n",
    "segments_modern = src.syntax_entropy.split_into_segments(ud_data_modern.sentences)"
   ]
  },
  {
   "cell_type": "markdown",
   "metadata": {},
   "source": [
    "## POS distribution in various sentence positions"
   ]
  },
  {
   "cell_type": "code",
   "execution_count": 7,
   "metadata": {},
   "outputs": [
    {
     "name": "stdout",
     "output_type": "stream",
     "text": [
      "Counter({'OTHER': 6990, 'VERB': 4479, 'NOUN': 3646})\n",
      "1.0600933000574104\n"
     ]
    }
   ],
   "source": [
    "src.syntax_entropy.display_entropy(src.syntax_entropy.get_start_distribution(segments_classical))"
   ]
  },
  {
   "cell_type": "code",
   "execution_count": 8,
   "metadata": {},
   "outputs": [
    {
     "name": "stdout",
     "output_type": "stream",
     "text": [
      "Counter({'OTHER': 10589, 'NOUN': 3427, 'VERB': 2309})\n",
      "0.8851155125050056\n"
     ]
    }
   ],
   "source": [
    "src.syntax_entropy.display_entropy(src.syntax_entropy.get_start_distribution(segments_modern))"
   ]
  },
  {
   "cell_type": "code",
   "execution_count": 9,
   "metadata": {},
   "outputs": [
    {
     "name": "stdout",
     "output_type": "stream",
     "text": [
      "Counter({'VERB': 5799, 'OTHER': 5218, 'NOUN': 4098})\n",
      "1.0885771364998045\n"
     ]
    }
   ],
   "source": [
    "src.syntax_entropy.display_entropy(src.syntax_entropy.get_end_distribution(segments_classical))"
   ]
  },
  {
   "cell_type": "code",
   "execution_count": 10,
   "metadata": {},
   "outputs": [
    {
     "name": "stdout",
     "output_type": "stream",
     "text": [
      "Counter({'NOUN': 8582, 'OTHER': 5312, 'VERB': 2431})\n",
      "0.9869532257558223\n"
     ]
    }
   ],
   "source": [
    "src.syntax_entropy.display_entropy(src.syntax_entropy.get_end_distribution(segments_modern))"
   ]
  },
  {
   "cell_type": "code",
   "execution_count": 11,
   "metadata": {},
   "outputs": [
    {
     "name": "stdout",
     "output_type": "stream",
     "text": [
      "Before 也\n",
      "Counter({'NOUN': 1067, 'VERB': 977, 'OTHER': 501})\n",
      "1.0519315141208563\n",
      "After 也\n",
      "Counter({'VERB': 154, 'OTHER': 148, 'NOUN': 18})\n",
      "0.8704934678846507\n",
      "\n",
      "Before 之\n",
      "Counter({'VERB': 1577, 'NOUN': 1560, 'OTHER': 468})\n",
      "0.9891940573445255\n",
      "After 之\n",
      "Counter({'NOUN': 1274, 'VERB': 885, 'OTHER': 719})\n",
      "1.0698816618511504\n",
      "\n",
      "Before 而\n",
      "Counter({'VERB': 775, 'NOUN': 537, 'OTHER': 196})\n",
      "0.9749982370895953\n",
      "After 而\n",
      "Counter({'VERB': 944, 'OTHER': 538, 'NOUN': 251})\n",
      "0.9738956752144691\n",
      "\n",
      "Before 者\n",
      "Counter({'NOUN': 554, 'VERB': 516, 'OTHER': 214})\n",
      "1.027658229840905\n",
      "After 者\n",
      "Counter({'OTHER': 598, 'VERB': 349, 'NOUN': 138})\n",
      "0.9554657910779525\n",
      "\n",
      "Before 于\n",
      "Counter({'VERB': 722, 'NOUN': 148, 'OTHER': 120})\n",
      "0.7701205229957517\n",
      "After 于\n",
      "Counter({'NOUN': 615, 'OTHER': 350, 'VERB': 102})\n",
      "0.9076376236305117\n",
      "\n"
     ]
    }
   ],
   "source": [
    "for ch, _ in get_most_common_particles(ud_data_classical).most_common(5):\n",
    "  print('Before', ch)\n",
    "  src.syntax_entropy.display_entropy(src.syntax_entropy.get_before_distribution(segments_classical, ch))\n",
    "  print('After', ch)\n",
    "  src.syntax_entropy.display_entropy(src.syntax_entropy.get_after_distribution(segments_classical, ch))\n",
    "  print()"
   ]
  },
  {
   "cell_type": "code",
   "execution_count": 12,
   "metadata": {},
   "outputs": [
    {
     "name": "stdout",
     "output_type": "stream",
     "text": [
      "Before 的\n",
      "Counter({'OTHER': 2448, 'NOUN': 2113, 'VERB': 964})\n",
      "1.0328970058721147\n",
      "After 的\n",
      "Counter({'NOUN': 3893, 'OTHER': 1259, 'VERB': 272})\n",
      "0.7271302344613362\n",
      "\n",
      "Before 在\n",
      "Counter({'OTHER': 629, 'NOUN': 308, 'VERB': 274})\n",
      "1.024696050100764\n",
      "After 在\n",
      "Counter({'OTHER': 938, 'NOUN': 543, 'VERB': 149})\n",
      "0.9028654701947718\n",
      "\n",
      "Before 是\n",
      "Counter({'OTHER': 495, 'NOUN': 398, 'VERB': 49})\n",
      "0.8558999824509612\n",
      "After 是\n",
      "Counter({'OTHER': 759, 'NOUN': 211, 'VERB': 203})\n",
      "0.8938226372705123\n",
      "\n",
      "Before 和\n",
      "Counter({'NOUN': 444, 'OTHER': 315, 'VERB': 29})\n",
      "0.8113025746045924\n",
      "After 和\n",
      "Counter({'NOUN': 389, 'OTHER': 378, 'VERB': 60})\n",
      "0.902952162562862\n",
      "\n",
      "Before 了\n",
      "Counter({'VERB': 788, 'OTHER': 16, 'NOUN': 6})\n",
      "0.14064354250696148\n",
      "After 了\n",
      "Counter({'OTHER': 480, 'NOUN': 204, 'VERB': 58})\n",
      "0.8360075946109897\n",
      "\n"
     ]
    }
   ],
   "source": [
    "for ch, _ in get_most_common_particles(ud_data_modern).most_common(5):\n",
    "  print('Before', ch)\n",
    "  src.syntax_entropy.display_entropy(src.syntax_entropy.get_before_distribution(segments_modern, ch))\n",
    "  print('After', ch)\n",
    "  src.syntax_entropy.display_entropy(src.syntax_entropy.get_after_distribution(segments_modern, ch))\n",
    "  print()"
   ]
  }
 ],
 "metadata": {
  "kernelspec": {
   "display_name": "Python 3",
   "language": "python",
   "name": "python3"
  },
  "language_info": {
   "codemirror_mode": {
    "name": "ipython",
    "version": 3
   },
   "file_extension": ".py",
   "mimetype": "text/x-python",
   "name": "python",
   "nbconvert_exporter": "python",
   "pygments_lexer": "ipython3",
   "version": "3.7.5"
  }
 },
 "nbformat": 4,
 "nbformat_minor": 4
}
