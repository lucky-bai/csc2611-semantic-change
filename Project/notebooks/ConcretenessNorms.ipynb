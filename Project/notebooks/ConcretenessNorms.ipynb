{
 "cells": [
  {
   "cell_type": "markdown",
   "metadata": {},
   "source": [
    "# Concreteness Experiments\n",
    "\n",
    "Attempt to correlate N/V percentage with concreteness norms from Yao et al. (2017).\n",
    "\n",
    "Yao, Zhao, et al. \"Norms of valence, arousal, concreteness, familiarity, imageability, and context availability for 1,100 Chinese words.\" Behavior research methods 49.4 (2017): 1374-1385."
   ]
  },
  {
   "cell_type": "code",
   "execution_count": 1,
   "metadata": {},
   "outputs": [],
   "source": [
    "import sys\n",
    "sys.path.append('../')\n",
    "\n",
    "from collections import defaultdict\n",
    "import numpy as np\n",
    "import pandas as pd\n",
    "import glob\n",
    "import matplotlib.pyplot as plt\n",
    "import seaborn as sns\n",
    "import scipy.stats\n",
    "\n",
    "import src.ud_corpus\n",
    "\n",
    "%load_ext autoreload\n",
    "%autoreload 2"
   ]
  },
  {
   "cell_type": "code",
   "execution_count": 2,
   "metadata": {},
   "outputs": [
    {
     "data": {
      "text/html": [
       "<div>\n",
       "<style scoped>\n",
       "    .dataframe tbody tr th:only-of-type {\n",
       "        vertical-align: middle;\n",
       "    }\n",
       "\n",
       "    .dataframe tbody tr th {\n",
       "        vertical-align: top;\n",
       "    }\n",
       "\n",
       "    .dataframe thead th {\n",
       "        text-align: right;\n",
       "    }\n",
       "</style>\n",
       "<table border=\"1\" class=\"dataframe\">\n",
       "  <thead>\n",
       "    <tr style=\"text-align: right;\">\n",
       "      <th></th>\n",
       "      <th>Chinese words</th>\n",
       "      <th>English translations</th>\n",
       "      <th>VAL_M</th>\n",
       "      <th>VAL_SD</th>\n",
       "      <th>ARO_M</th>\n",
       "      <th>ARO_SD</th>\n",
       "      <th>CON_M</th>\n",
       "      <th>CON_SD</th>\n",
       "      <th>FAM_M</th>\n",
       "      <th>FAM_SD</th>\n",
       "      <th>IMA_M</th>\n",
       "      <th>IMA_SD</th>\n",
       "      <th>AVA_M</th>\n",
       "      <th>AVA_SD</th>\n",
       "      <th>RT_M</th>\n",
       "      <th>RT_SD</th>\n",
       "      <th>ACC_M</th>\n",
       "      <th>ACC_SD</th>\n",
       "    </tr>\n",
       "  </thead>\n",
       "  <tbody>\n",
       "    <tr>\n",
       "      <th>0</th>\n",
       "      <td>爱慕</td>\n",
       "      <td>admire</td>\n",
       "      <td>4.89</td>\n",
       "      <td>1.65</td>\n",
       "      <td>3.39</td>\n",
       "      <td>0.79</td>\n",
       "      <td>4.50</td>\n",
       "      <td>1.97</td>\n",
       "      <td>5.07</td>\n",
       "      <td>0.76</td>\n",
       "      <td>4.01</td>\n",
       "      <td>1.55</td>\n",
       "      <td>5.39</td>\n",
       "      <td>1.24</td>\n",
       "      <td>543.88</td>\n",
       "      <td>33.32</td>\n",
       "      <td>0.935</td>\n",
       "      <td>0.032</td>\n",
       "    </tr>\n",
       "    <tr>\n",
       "      <th>1</th>\n",
       "      <td>爱情</td>\n",
       "      <td>love</td>\n",
       "      <td>6.97</td>\n",
       "      <td>1.45</td>\n",
       "      <td>7.43</td>\n",
       "      <td>1.45</td>\n",
       "      <td>5.26</td>\n",
       "      <td>0.84</td>\n",
       "      <td>5.00</td>\n",
       "      <td>0.68</td>\n",
       "      <td>4.92</td>\n",
       "      <td>1.99</td>\n",
       "      <td>5.43</td>\n",
       "      <td>1.36</td>\n",
       "      <td>524.32</td>\n",
       "      <td>38.03</td>\n",
       "      <td>0.910</td>\n",
       "      <td>0.037</td>\n",
       "    </tr>\n",
       "    <tr>\n",
       "      <th>2</th>\n",
       "      <td>安然</td>\n",
       "      <td>comfortable</td>\n",
       "      <td>6.81</td>\n",
       "      <td>0.75</td>\n",
       "      <td>6.36</td>\n",
       "      <td>1.08</td>\n",
       "      <td>7.58</td>\n",
       "      <td>1.33</td>\n",
       "      <td>7.69</td>\n",
       "      <td>0.59</td>\n",
       "      <td>6.72</td>\n",
       "      <td>1.44</td>\n",
       "      <td>7.05</td>\n",
       "      <td>0.45</td>\n",
       "      <td>520.45</td>\n",
       "      <td>53.82</td>\n",
       "      <td>0.943</td>\n",
       "      <td>0.046</td>\n",
       "    </tr>\n",
       "    <tr>\n",
       "      <th>3</th>\n",
       "      <td>安神</td>\n",
       "      <td>soothing</td>\n",
       "      <td>4.51</td>\n",
       "      <td>2.20</td>\n",
       "      <td>3.41</td>\n",
       "      <td>1.74</td>\n",
       "      <td>5.32</td>\n",
       "      <td>0.54</td>\n",
       "      <td>5.44</td>\n",
       "      <td>1.75</td>\n",
       "      <td>4.52</td>\n",
       "      <td>0.39</td>\n",
       "      <td>5.05</td>\n",
       "      <td>1.19</td>\n",
       "      <td>550.95</td>\n",
       "      <td>40.74</td>\n",
       "      <td>0.881</td>\n",
       "      <td>0.035</td>\n",
       "    </tr>\n",
       "    <tr>\n",
       "      <th>4</th>\n",
       "      <td>安详</td>\n",
       "      <td>serene</td>\n",
       "      <td>6.86</td>\n",
       "      <td>1.37</td>\n",
       "      <td>6.11</td>\n",
       "      <td>0.45</td>\n",
       "      <td>6.83</td>\n",
       "      <td>0.53</td>\n",
       "      <td>6.83</td>\n",
       "      <td>0.81</td>\n",
       "      <td>7.05</td>\n",
       "      <td>1.78</td>\n",
       "      <td>6.35</td>\n",
       "      <td>1.12</td>\n",
       "      <td>505.79</td>\n",
       "      <td>61.24</td>\n",
       "      <td>0.913</td>\n",
       "      <td>0.016</td>\n",
       "    </tr>\n",
       "  </tbody>\n",
       "</table>\n",
       "</div>"
      ],
      "text/plain": [
       "  Chinese words English translations  VAL_M  VAL_SD  ARO_M  ARO_SD  CON_M  \\\n",
       "0            爱慕               admire   4.89    1.65   3.39    0.79   4.50   \n",
       "1            爱情                 love   6.97    1.45   7.43    1.45   5.26   \n",
       "2            安然          comfortable   6.81    0.75   6.36    1.08   7.58   \n",
       "3            安神             soothing   4.51    2.20   3.41    1.74   5.32   \n",
       "4            安详               serene   6.86    1.37   6.11    0.45   6.83   \n",
       "\n",
       "   CON_SD  FAM_M  FAM_SD  IMA_M  IMA_SD  AVA_M  AVA_SD    RT_M  RT_SD  ACC_M  \\\n",
       "0    1.97   5.07    0.76   4.01    1.55   5.39    1.24  543.88  33.32  0.935   \n",
       "1    0.84   5.00    0.68   4.92    1.99   5.43    1.36  524.32  38.03  0.910   \n",
       "2    1.33   7.69    0.59   6.72    1.44   7.05    0.45  520.45  53.82  0.943   \n",
       "3    0.54   5.44    1.75   4.52    0.39   5.05    1.19  550.95  40.74  0.881   \n",
       "4    0.53   6.83    0.81   7.05    1.78   6.35    1.12  505.79  61.24  0.913   \n",
       "\n",
       "   ACC_SD  \n",
       "0   0.032  \n",
       "1   0.037  \n",
       "2   0.046  \n",
       "3   0.035  \n",
       "4   0.016  "
      ]
     },
     "execution_count": 2,
     "metadata": {},
     "output_type": "execute_result"
    }
   ],
   "source": [
    "# Extracted from Yao et al. (2017) PDF using tabula, with manual corrections\n",
    "yao2017 = pd.read_csv('../data/yao2017_norms.csv')\n",
    "yao2017.head()"
   ]
  },
  {
   "cell_type": "markdown",
   "metadata": {},
   "source": [
    "## Break down by character"
   ]
  },
  {
   "cell_type": "code",
   "execution_count": 3,
   "metadata": {},
   "outputs": [],
   "source": [
    "D = defaultdict(list)\n",
    "for ix, row in yao2017.iterrows():\n",
    "  for ch in row['Chinese words']:\n",
    "    D[ch].append(row['CON_M'])"
   ]
  },
  {
   "cell_type": "code",
   "execution_count": 4,
   "metadata": {},
   "outputs": [
    {
     "data": {
      "text/html": [
       "<div>\n",
       "<style scoped>\n",
       "    .dataframe tbody tr th:only-of-type {\n",
       "        vertical-align: middle;\n",
       "    }\n",
       "\n",
       "    .dataframe tbody tr th {\n",
       "        vertical-align: top;\n",
       "    }\n",
       "\n",
       "    .dataframe thead th {\n",
       "        text-align: right;\n",
       "    }\n",
       "</style>\n",
       "<table border=\"1\" class=\"dataframe\">\n",
       "  <thead>\n",
       "    <tr style=\"text-align: right;\">\n",
       "      <th></th>\n",
       "      <th>char</th>\n",
       "      <th>compounds</th>\n",
       "      <th>concreteness</th>\n",
       "    </tr>\n",
       "  </thead>\n",
       "  <tbody>\n",
       "    <tr>\n",
       "      <th>0</th>\n",
       "      <td>爱</td>\n",
       "      <td>7</td>\n",
       "      <td>6.032857</td>\n",
       "    </tr>\n",
       "    <tr>\n",
       "      <th>1</th>\n",
       "      <td>慕</td>\n",
       "      <td>1</td>\n",
       "      <td>4.500000</td>\n",
       "    </tr>\n",
       "    <tr>\n",
       "      <th>2</th>\n",
       "      <td>情</td>\n",
       "      <td>16</td>\n",
       "      <td>5.791250</td>\n",
       "    </tr>\n",
       "    <tr>\n",
       "      <th>3</th>\n",
       "      <td>安</td>\n",
       "      <td>6</td>\n",
       "      <td>5.783333</td>\n",
       "    </tr>\n",
       "    <tr>\n",
       "      <th>4</th>\n",
       "      <td>然</td>\n",
       "      <td>2</td>\n",
       "      <td>6.300000</td>\n",
       "    </tr>\n",
       "  </tbody>\n",
       "</table>\n",
       "</div>"
      ],
      "text/plain": [
       "  char  compounds  concreteness\n",
       "0    爱          7      6.032857\n",
       "1    慕          1      4.500000\n",
       "2    情         16      5.791250\n",
       "3    安          6      5.783333\n",
       "4    然          2      6.300000"
      ]
     },
     "execution_count": 4,
     "metadata": {},
     "output_type": "execute_result"
    }
   ],
   "source": [
    "concreteness_df = []\n",
    "for ch, ratings in D.items():\n",
    "  concreteness_df.append(pd.Series({\n",
    "    'char': ch,\n",
    "    'compounds': len(ratings),\n",
    "    'concreteness': np.mean(np.array(ratings))\n",
    "  }))\n",
    "concreteness_df = pd.DataFrame(concreteness_df)\n",
    "concreteness_df.head()"
   ]
  },
  {
   "cell_type": "markdown",
   "metadata": {},
   "source": [
    "## Load UD Kyoto corpus"
   ]
  },
  {
   "cell_type": "code",
   "execution_count": 5,
   "metadata": {},
   "outputs": [],
   "source": [
    "ud_data = src.ud_corpus.POSCorpus.create_from_ud(glob.glob('../data/UD_Classical_Chinese-Kyoto/*.conllu'))"
   ]
  },
  {
   "cell_type": "code",
   "execution_count": 6,
   "metadata": {},
   "outputs": [
    {
     "data": {
      "text/plain": [
       "[{'char': '学', 'pos': 'VERB'},\n",
       " {'char': '而', 'pos': 'CCONJ'},\n",
       " {'char': '篇', 'pos': 'NOUN'},\n",
       " {'char': '第', 'pos': 'NOUN'},\n",
       " {'char': '一', 'pos': 'NUM'}]"
      ]
     },
     "execution_count": 6,
     "metadata": {},
     "output_type": "execute_result"
    }
   ],
   "source": [
    "ud_data.sentences[0]"
   ]
  },
  {
   "cell_type": "code",
   "execution_count": 7,
   "metadata": {},
   "outputs": [
    {
     "data": {
      "text/html": [
       "<div>\n",
       "<style scoped>\n",
       "    .dataframe tbody tr th:only-of-type {\n",
       "        vertical-align: middle;\n",
       "    }\n",
       "\n",
       "    .dataframe tbody tr th {\n",
       "        vertical-align: top;\n",
       "    }\n",
       "\n",
       "    .dataframe thead th {\n",
       "        text-align: right;\n",
       "    }\n",
       "</style>\n",
       "<table border=\"1\" class=\"dataframe\">\n",
       "  <thead>\n",
       "    <tr style=\"text-align: right;\">\n",
       "      <th></th>\n",
       "      <th>char</th>\n",
       "      <th>noun_count</th>\n",
       "      <th>verb_count</th>\n",
       "      <th>total_count</th>\n",
       "      <th>noun_ratio</th>\n",
       "    </tr>\n",
       "  </thead>\n",
       "  <tbody>\n",
       "    <tr>\n",
       "      <th>6</th>\n",
       "      <td>曰</td>\n",
       "      <td>0</td>\n",
       "      <td>2065</td>\n",
       "      <td>2065</td>\n",
       "      <td>0.000000</td>\n",
       "    </tr>\n",
       "    <tr>\n",
       "      <th>5</th>\n",
       "      <td>子</td>\n",
       "      <td>1421</td>\n",
       "      <td>8</td>\n",
       "      <td>1429</td>\n",
       "      <td>0.994402</td>\n",
       "    </tr>\n",
       "    <tr>\n",
       "      <th>21</th>\n",
       "      <td>人</td>\n",
       "      <td>1163</td>\n",
       "      <td>0</td>\n",
       "      <td>1163</td>\n",
       "      <td>1.000000</td>\n",
       "    </tr>\n",
       "    <tr>\n",
       "      <th>14</th>\n",
       "      <td>有</td>\n",
       "      <td>0</td>\n",
       "      <td>967</td>\n",
       "      <td>967</td>\n",
       "      <td>0.000000</td>\n",
       "    </tr>\n",
       "    <tr>\n",
       "      <th>72</th>\n",
       "      <td>以</td>\n",
       "      <td>0</td>\n",
       "      <td>862</td>\n",
       "      <td>862</td>\n",
       "      <td>0.000000</td>\n",
       "    </tr>\n",
       "    <tr>\n",
       "      <th>24</th>\n",
       "      <td>君</td>\n",
       "      <td>695</td>\n",
       "      <td>8</td>\n",
       "      <td>703</td>\n",
       "      <td>0.988620</td>\n",
       "    </tr>\n",
       "    <tr>\n",
       "      <th>203</th>\n",
       "      <td>天</td>\n",
       "      <td>537</td>\n",
       "      <td>2</td>\n",
       "      <td>539</td>\n",
       "      <td>0.996289</td>\n",
       "    </tr>\n",
       "    <tr>\n",
       "      <th>26</th>\n",
       "      <td>为</td>\n",
       "      <td>0</td>\n",
       "      <td>528</td>\n",
       "      <td>528</td>\n",
       "      <td>0.000000</td>\n",
       "    </tr>\n",
       "    <tr>\n",
       "      <th>71</th>\n",
       "      <td>民</td>\n",
       "      <td>482</td>\n",
       "      <td>0</td>\n",
       "      <td>482</td>\n",
       "      <td>1.000000</td>\n",
       "    </tr>\n",
       "    <tr>\n",
       "      <th>100</th>\n",
       "      <td>无</td>\n",
       "      <td>0</td>\n",
       "      <td>421</td>\n",
       "      <td>421</td>\n",
       "      <td>0.000000</td>\n",
       "    </tr>\n",
       "  </tbody>\n",
       "</table>\n",
       "</div>"
      ],
      "text/plain": [
       "    char  noun_count  verb_count  total_count  noun_ratio\n",
       "6      曰           0        2065         2065    0.000000\n",
       "5      子        1421           8         1429    0.994402\n",
       "21     人        1163           0         1163    1.000000\n",
       "14     有           0         967          967    0.000000\n",
       "72     以           0         862          862    0.000000\n",
       "24     君         695           8          703    0.988620\n",
       "203    天         537           2          539    0.996289\n",
       "26     为           0         528          528    0.000000\n",
       "71     民         482           0          482    1.000000\n",
       "100    无           0         421          421    0.000000"
      ]
     },
     "execution_count": 7,
     "metadata": {},
     "output_type": "execute_result"
    }
   ],
   "source": [
    "summary_data = ud_data.get_nv_stats().sort_values('total_count', ascending=False)\n",
    "summary_data = summary_data[summary_data.total_count >= 10]\n",
    "summary_data.head(10)"
   ]
  },
  {
   "cell_type": "markdown",
   "metadata": {},
   "source": [
    "## Join together noun_ratio and concreteness"
   ]
  },
  {
   "cell_type": "code",
   "execution_count": 8,
   "metadata": {},
   "outputs": [],
   "source": [
    "combined_df = pd.merge(summary_data, concreteness_df, how='inner', on='char')"
   ]
  },
  {
   "cell_type": "code",
   "execution_count": 9,
   "metadata": {},
   "outputs": [
    {
     "name": "stderr",
     "output_type": "stream",
     "text": [
      "/h/bai/moar/bai-conda/lib/python3.7/site-packages/scipy/stats/stats.py:1713: FutureWarning: Using a non-tuple sequence for multidimensional indexing is deprecated; use `arr[tuple(seq)]` instead of `arr[seq]`. In the future this will be interpreted as an array index, `arr[np.array(seq)]`, which will result either in an error or a different result.\n",
      "  return np.add.reduce(sorted[indexer] * weights, axis=axis) / sumval\n"
     ]
    },
    {
     "data": {
      "text/plain": [
       "<matplotlib.axes._subplots.AxesSubplot at 0x7fa1d8597050>"
      ]
     },
     "execution_count": 9,
     "metadata": {},
     "output_type": "execute_result"
    },
    {
     "data": {
      "image/png": "[encoded data removed]",
      "text/plain": [
       "<Figure size 432x288 with 1 Axes>"
      ]
     },
     "metadata": {
      "needs_background": "light"
     },
     "output_type": "display_data"
    }
   ],
   "source": [
    "sns.regplot(combined_df.noun_ratio, combined_df.concreteness)"
   ]
  },
  {
   "cell_type": "code",
   "execution_count": 10,
   "metadata": {},
   "outputs": [
    {
     "data": {
      "text/plain": [
       "(0.1388541082294863, 0.006855132269165899)"
      ]
     },
     "execution_count": 10,
     "metadata": {},
     "output_type": "execute_result"
    }
   ],
   "source": [
    "scipy.stats.pearsonr(combined_df.noun_ratio, combined_df.concreteness)"
   ]
  }
 ],
 "metadata": {
  "kernelspec": {
   "display_name": "Python 3",
   "language": "python",
   "name": "python3"
  },
  "language_info": {
   "codemirror_mode": {
    "name": "ipython",
    "version": 3
   },
   "file_extension": ".py",
   "mimetype": "text/x-python",
   "name": "python",
   "nbconvert_exporter": "python",
   "pygments_lexer": "ipython3",
   "version": "3.7.5"
  }
 },
 "nbformat": 4,
 "nbformat_minor": 4
}
