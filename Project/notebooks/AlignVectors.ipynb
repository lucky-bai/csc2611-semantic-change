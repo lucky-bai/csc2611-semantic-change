{
 "cells": [
  {
   "cell_type": "markdown",
   "metadata": {},
   "source": [
    "# Align Vectors"
   ]
  },
  {
   "cell_type": "code",
   "execution_count": 1,
   "metadata": {},
   "outputs": [],
   "source": [
    "import sys\n",
    "sys.path.append('../')\n",
    "\n",
    "import matplotlib.pyplot as plt\n",
    "import seaborn as sns\n",
    "import numpy as np\n",
    "import gensim\n",
    "\n",
    "import src.procrustes\n",
    "\n",
    "%load_ext autoreload\n",
    "%autoreload 2\n",
    "%matplotlib inline"
   ]
  },
  {
   "cell_type": "code",
   "execution_count": 2,
   "metadata": {},
   "outputs": [],
   "source": [
    "vecs_classical = gensim.models.KeyedVectors.load_word2vec_format('../data/glove/classical-chinese/vectors.txt', binary=False)\n",
    "vecs_modern = gensim.models.KeyedVectors.load_word2vec_format('../data/glove/modern-chinese/vectors.txt', binary=False)"
   ]
  },
  {
   "cell_type": "code",
   "execution_count": 3,
   "metadata": {},
   "outputs": [
    {
     "name": "stdout",
     "output_type": "stream",
     "text": [
      "8418\n",
      "11042\n"
     ]
    }
   ],
   "source": [
    "print(len(vecs_classical.vocab))\n",
    "print(len(vecs_modern.vocab))"
   ]
  },
  {
   "cell_type": "code",
   "execution_count": 4,
   "metadata": {},
   "outputs": [
    {
     "data": {
      "text/plain": [
       "[('此', 0.6211493015289307),\n",
       " ('之', 0.5966967344284058),\n",
       " ('矣', 0.5865829586982727),\n",
       " ('非', 0.5838754177093506),\n",
       " ('亦', 0.5630781650543213),\n",
       " ('則', 0.5609027147293091),\n",
       " ('不', 0.5547611117362976),\n",
       " ('可', 0.5543578267097473),\n",
       " ('？', 0.5412447452545166),\n",
       " ('君', 0.5396000146865845)]"
      ]
     },
     "execution_count": 4,
     "metadata": {},
     "output_type": "execute_result"
    }
   ],
   "source": [
    "vecs_classical.most_similar('也')"
   ]
  },
  {
   "cell_type": "code",
   "execution_count": 5,
   "metadata": {},
   "outputs": [
    {
     "data": {
      "text/plain": [
       "[('但', 0.7273572683334351),\n",
       " ('此', 0.6991831660270691),\n",
       " ('而', 0.697770357131958),\n",
       " ('是', 0.6840647459030151),\n",
       " ('的', 0.6499351859092712),\n",
       " ('就', 0.6348243355751038),\n",
       " ('不', 0.6340436935424805),\n",
       " ('且', 0.6330309510231018),\n",
       " ('他', 0.6328660249710083),\n",
       " ('些', 0.6294775605201721)]"
      ]
     },
     "execution_count": 5,
     "metadata": {},
     "output_type": "execute_result"
    }
   ],
   "source": [
    "vecs_modern.most_similar('也')"
   ]
  },
  {
   "cell_type": "code",
   "execution_count": 6,
   "metadata": {},
   "outputs": [],
   "source": [
    "vecs_modern = src.procrustes.smart_procrustes_align_gensim(vecs_classical, vecs_modern)"
   ]
  },
  {
   "cell_type": "markdown",
   "metadata": {},
   "source": [
    "## Print amount of change"
   ]
  },
  {
   "cell_type": "code",
   "execution_count": 7,
   "metadata": {},
   "outputs": [
    {
     "name": "stdout",
     "output_type": "stream",
     "text": [
      "之 0.94200295\n",
      "不 0.7767143\n",
      "也 0.9966372\n",
      "而 0.87062734\n",
      "以 0.90897965\n",
      "其 0.8811623\n",
      "子 0.9534512\n",
      "曰 1.0131788\n",
      "人 0.83903563\n",
      "者 0.85687095\n",
      "有 1.0055766\n",
      "為 0.971229\n"
     ]
    }
   ],
   "source": [
    "for c in list('之不也而以其子曰人者有為'):\n",
    "  print(c, np.linalg.norm(vecs_classical[c] - vecs_modern[c]))"
   ]
  }
 ],
 "metadata": {
  "kernelspec": {
   "display_name": "Python 3",
   "language": "python",
   "name": "python3"
  },
  "language_info": {
   "codemirror_mode": {
    "name": "ipython",
    "version": 3
   },
   "file_extension": ".py",
   "mimetype": "text/x-python",
   "name": "python",
   "nbconvert_exporter": "python",
   "pygments_lexer": "ipython3",
   "version": "3.7.5"
  }
 },
 "nbformat": 4,
 "nbformat_minor": 4
}
