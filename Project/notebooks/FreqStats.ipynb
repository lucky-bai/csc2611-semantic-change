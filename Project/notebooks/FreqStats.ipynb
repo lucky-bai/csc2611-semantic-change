{
 "cells": [
  {
   "cell_type": "markdown",
   "metadata": {},
   "source": [
    "# Basic Frequency Stats"
   ]
  },
  {
   "cell_type": "code",
   "execution_count": 1,
   "metadata": {},
   "outputs": [],
   "source": [
    "import sys\n",
    "sys.path.append('../')\n",
    "\n",
    "import re\n",
    "from collections import Counter\n",
    "\n",
    "import matplotlib.pyplot as plt\n",
    "import seaborn as sns\n",
    "import numpy as np\n",
    "\n",
    "import src.utils\n",
    "\n",
    "%load_ext autoreload\n",
    "%autoreload 2\n",
    "%matplotlib inline"
   ]
  },
  {
   "cell_type": "markdown",
   "metadata": {},
   "source": [
    "## Load data\n",
    "\n",
    "Filter out lines that don't contain chinese characters.\n",
    "\n",
    "Split sentences by period mark."
   ]
  },
  {
   "cell_type": "code",
   "execution_count": 2,
   "metadata": {},
   "outputs": [],
   "source": [
    "TEXT_NAME = '../data/24hist/01_shiji_full.txt'\n",
    "#TEXT_NAME = '../data/24hist/24_mingshi_full.txt'\n",
    "sentences = src.utils.load_sentences(TEXT_NAME)"
   ]
  },
  {
   "cell_type": "code",
   "execution_count": 3,
   "metadata": {},
   "outputs": [
    {
     "data": {
      "text/plain": [
       "41649"
      ]
     },
     "execution_count": 3,
     "metadata": {},
     "output_type": "execute_result"
    }
   ],
   "source": [
    "len(sentences)"
   ]
  },
  {
   "cell_type": "code",
   "execution_count": 4,
   "metadata": {},
   "outputs": [
    {
     "data": {
      "text/plain": [
       "['黃帝者，少典之子，姓公孫，名曰軒轅。',\n",
       " '生而神靈，弱而能言，幼而徇齊，長而敦敏，成而聰明。',\n",
       " '軒轅之時，神農氏世衰。',\n",
       " '諸侯相侵伐，暴虐百姓，而神農氏弗能征。',\n",
       " '於是軒轅乃習用干戈，以征不享，諸侯咸來賓從。',\n",
       " '而蚩尤最爲暴，莫能伐。',\n",
       " '炎帝欲侵陵諸侯，諸侯咸歸軒轅。',\n",
       " '軒轅乃修德振兵，治五氣，蓺五種，撫萬民，度四方，教熊羆貔貅貙虎，以與炎帝戰於阪泉之野。',\n",
       " '三戰，然後得其志。',\n",
       " '蚩尤作亂，不用帝命。']"
      ]
     },
     "execution_count": 4,
     "metadata": {},
     "output_type": "execute_result"
    }
   ],
   "source": [
    "sentences[:10]"
   ]
  },
  {
   "cell_type": "markdown",
   "metadata": {},
   "source": [
    "## Most frequent, sentence length distribution"
   ]
  },
  {
   "cell_type": "code",
   "execution_count": 5,
   "metadata": {},
   "outputs": [
    {
     "data": {
      "text/plain": [
       "[('，', 61499),\n",
       " ('。', 39003),\n",
       " ('之', 13710),\n",
       " ('王', 9210),\n",
       " ('以', 8108),\n",
       " ('不', 8071),\n",
       " ('為', 8005),\n",
       " (' ', 7446),\n",
       " ('子', 7346),\n",
       " ('十', 6820),\n",
       " ('而', 6521),\n",
       " ('年', 6123),\n",
       " ('曰', 6040),\n",
       " ('其', 5608),\n",
       " ('：', 5304),\n",
       " ('「', 5286),\n",
       " ('公', 5239),\n",
       " ('人', 4940),\n",
       " ('侯', 4770),\n",
       " ('」', 4751)]"
      ]
     },
     "execution_count": 5,
     "metadata": {},
     "output_type": "execute_result"
    }
   ],
   "source": [
    "c = Counter()\n",
    "for l in sentences:\n",
    "  for ch in l:\n",
    "    c[ch] += 1\n",
    "c.most_common(20)"
   ]
  },
  {
   "cell_type": "code",
   "execution_count": 6,
   "metadata": {},
   "outputs": [
    {
     "name": "stderr",
     "output_type": "stream",
     "text": [
      "/h/bai/moar/bai-conda/lib/python3.7/site-packages/scipy/stats/stats.py:1713: FutureWarning: Using a non-tuple sequence for multidimensional indexing is deprecated; use `arr[tuple(seq)]` instead of `arr[seq]`. In the future this will be interpreted as an array index, `arr[np.array(seq)]`, which will result either in an error or a different result.\n",
      "  return np.add.reduce(sorted[indexer] * weights, axis=axis) / sumval\n"
     ]
    },
    {
     "data": {
      "text/plain": [
       "<matplotlib.axes._subplots.AxesSubplot at 0x7f0f4a0ce410>"
      ]
     },
     "execution_count": 6,
     "metadata": {},
     "output_type": "execute_result"
    },
    {
     "data": {
      "image/png": "[encoded data removed]",
      "text/plain": [
       "<Figure size 432x288 with 1 Axes>"
      ]
     },
     "metadata": {
      "needs_background": "light"
     },
     "output_type": "display_data"
    }
   ],
   "source": [
    "sentence_lengths = np.array([len(sent) for sent in sentences])\n",
    "sns.distplot(sentence_lengths)"
   ]
  }
 ],
 "metadata": {
  "kernelspec": {
   "display_name": "Python 3",
   "language": "python",
   "name": "python3"
  },
  "language_info": {
   "codemirror_mode": {
    "name": "ipython",
    "version": 3
   },
   "file_extension": ".py",
   "mimetype": "text/x-python",
   "name": "python",
   "nbconvert_exporter": "python",
   "pygments_lexer": "ipython3",
   "version": "3.7.5"
  }
 },
 "nbformat": 4,
 "nbformat_minor": 4
}
